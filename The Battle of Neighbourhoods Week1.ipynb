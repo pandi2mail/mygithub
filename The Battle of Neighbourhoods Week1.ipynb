{
    "cells": [
        {
            "cell_type": "markdown",
            "metadata": {
                "collapsed": true
            },
            "source": "\nCapstone Project - The Battle of Neighbourhoods\n\n\nIntroduction / Business Problem\n\"Which locality of all the cities in United States would be the best place to start a Gaming Arcade?\"\n\nPopulation density of a locality\nPer Capital income\nPopulation of each location\nVenues in each locality\nThe category of the venues that he's interested in are,\n\nArts and Entertainment\nShops & Service\nCollege and University\nEvent\nFood\nNightife Spot\nOutdoors & Recreation\nProfessional & Other places\nResidence\nTravel & Transport"
        },
        {
            "cell_type": "markdown",
            "metadata": {},
            "source": "Data\n\n\nList of all the cities in United States with population density and coordinates: https://en.wikipedia.org/wiki/List_of_United_States_cities_by_population\nList of all the cities in United States with Per Capita Income : https://en.wikipedia.org/wiki/List_of_United_States_counties_by_per_capita_income\nUsing Four Square API to get the following\n\nList of all venues in each city\nList of all venues in each locality in the selected city\nUsing the above data we will first select best city to proceed with based on the values like Population density, per capita income of the state, number of venues (as we are giving weights to each venue based on its category)."
        }
    ],
    "metadata": {
        "kernelspec": {
            "display_name": "Python 3.6",
            "language": "python",
            "name": "python3"
        },
        "language_info": {
            "codemirror_mode": {
                "name": "ipython",
                "version": 3
            },
            "file_extension": ".py",
            "mimetype": "text/x-python",
            "name": "python",
            "nbconvert_exporter": "python",
            "pygments_lexer": "ipython3",
            "version": "3.6.9"
        }
    },
    "nbformat": 4,
    "nbformat_minor": 1
}